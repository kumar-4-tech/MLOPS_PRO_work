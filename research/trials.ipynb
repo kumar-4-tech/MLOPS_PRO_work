{
 "cells": [
  {
   "cell_type": "code",
   "execution_count": null,
   "metadata": {},
   "outputs": [],
   "source": [
    "https://github.com/entbappy/End-to-End-Chest-Cancer-Classification-using-MLflow-DVC/blob/main/template.py"
   ]
  }
 ],
 "metadata": {
  "language_info": {
   "name": "python"
  }
 },
 "nbformat": 4,
 "nbformat_minor": 2
}
